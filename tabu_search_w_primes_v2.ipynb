{
 "cells": [
  {
   "cell_type": "code",
   "execution_count": 102,
   "metadata": {},
   "outputs": [],
   "source": [
    "%matplotlib inline\n",
    "import matplotlib.pyplot as plt\n",
    "import pandas as pd\n",
    "import numpy as np\n",
    "\n",
    "import pylab as pl\n",
    "from matplotlib import collections  as mc\n",
    "import time"
   ]
  },
  {
   "cell_type": "code",
   "execution_count": 103,
   "metadata": {},
   "outputs": [],
   "source": [
    "from numba import cuda\n",
    "from numba import *\n",
    "from numba import jit"
   ]
  },
  {
   "cell_type": "code",
   "execution_count": 104,
   "metadata": {},
   "outputs": [],
   "source": [
    "np.random.seed(1337)"
   ]
  },
  {
   "cell_type": "code",
   "execution_count": 105,
   "metadata": {},
   "outputs": [],
   "source": [
    "# Load our data\n",
    "cities = pd.read_csv(\"cities.csv\")\n",
    "sample = pd.read_csv(\"sample_submission.csv\")"
   ]
  },
  {
   "cell_type": "code",
   "execution_count": 106,
   "metadata": {},
   "outputs": [],
   "source": [
    "# Plots Tour\n",
    "def plot_tour(maps, tour, endpoint=None):\n",
    "    lines = [[(maps.X[tour[i]],maps.Y[tour[i]]),(maps.X[tour[i+1]],maps.Y[tour[i+1]])] for i in range(0,len(maps)-1)]\n",
    "    lc = mc.LineCollection(lines, linewidths=2)\n",
    "    fig, ax = pl.subplots(figsize=(20,20))\n",
    "    ax.set_aspect('equal')\n",
    "    ax.add_collection(lc)\n",
    "    ax.autoscale()"
   ]
  },
  {
   "cell_type": "code",
   "execution_count": 107,
   "metadata": {},
   "outputs": [],
   "source": [
    "# Find our Primes\n",
    "@jit(nopython=True, error_model='numpy', fastmath=True, parallel=True)\n",
    "def numba_sieve_of_eratosthenes(n):\n",
    "    primes = [True for i in range(n+1)] # Start assuming all numbers are primes\n",
    "    primes[0] = False # 0 is not a prime\n",
    "    primes[1] = False # 1 is not a prime\n",
    "    for i in range(2,int(np.sqrt(n)) + 1):\n",
    "        if primes[i]:\n",
    "            k = 2\n",
    "            while i*k <= n:\n",
    "                primes[i*k] = False\n",
    "                k += 1\n",
    "    return(primes)\n",
    "\n",
    "PRIMES = numba_sieve_of_eratosthenes(len(cities))"
   ]
  },
  {
   "cell_type": "code",
   "execution_count": 108,
   "metadata": {},
   "outputs": [],
   "source": [
    "def total_distance(city_df, path):\n",
    "    prev_city = path[0]\n",
    "    total_distance = 0\n",
    "    step_num = 1\n",
    "\n",
    "    for city_num in path[1:]:\n",
    "        next_city = city_num\n",
    "        \n",
    "        x2 = np.power((city_df.X[city_num] - city_df.X[prev_city]),2)\n",
    "        y2 = np.power((city_df.Y[city_num] - city_df.Y[prev_city]),2)\n",
    "        city1 = [city_df.X[city_num], city_df.Y[city_num]]\n",
    "        city1 = [city_df.X[city_num], city_df.Y[city_num]]\n",
    "        dist = np.sqrt(x2 + y2)\n",
    "        \n",
    "        is_prime = PRIMES[prev_city]\n",
    "        is_tenth_step = step_num % 10 == 0\n",
    "        \n",
    "        penalty = 1 + is_tenth_step * 0.1 * (not(is_prime))\n",
    "        \n",
    "        total_distance += dist * penalty\n",
    "        \n",
    "        prev_city = next_city\n",
    "        step_num += 1\n",
    "        \n",
    "    return total_distance"
   ]
  },
  {
   "cell_type": "code",
   "execution_count": 109,
   "metadata": {},
   "outputs": [],
   "source": [
    "#Subset to our Problem\n",
    "city_subset = cities[(cities.X < 500) & (cities.Y < 500)]"
   ]
  },
  {
   "cell_type": "code",
   "execution_count": 110,
   "metadata": {},
   "outputs": [
    {
     "data": {
      "text/plain": [
       "85752.48949926025"
      ]
     },
     "execution_count": 110,
     "metadata": {},
     "output_type": "execute_result"
    }
   ],
   "source": [
    "total_distance(cities, city_subset.CityId.values)"
   ]
  },
  {
   "cell_type": "code",
   "execution_count": 111,
   "metadata": {},
   "outputs": [],
   "source": [
    "def random_permutation(cities, start_city=None):\n",
    "    # Todo: add in end_city\n",
    "    \n",
    "    perm = cities.CityId.values.copy() # list of city indices\n",
    "    perm = cities\n",
    "    \n",
    "    if start_city:\n",
    "        perm = np.delete(perm, np.where(perm == start_city), axis=0) # don't want to swap start city\n",
    "    \n",
    "    for i in range(len(perm)):\n",
    "        r = np.random.randint(0, high=len(perm)-i) + i\n",
    "        perm[r], perm[i] = perm[i], perm[r] # swaps two cities\n",
    "    \n",
    "    if start_city:\n",
    "        perm = np.insert(perm, 0, start_city, axis=0)\n",
    "        \n",
    "    return perm # new path with random pairs swapped"
   ]
  },
  {
   "cell_type": "code",
   "execution_count": 112,
   "metadata": {},
   "outputs": [],
   "source": [
    "def is_tabu(perm, tabu_list):\n",
    "    for i in range(len(perm)):\n",
    "        c1 = perm[i] # city 1\n",
    "        if i == len(perm)-1:\n",
    "            c2 = perm[0]\n",
    "        else:\n",
    "            c2 = perm[i+1]\n",
    "    \n",
    "        if [c1,c2] in tabu_list:\n",
    "            return True\n",
    "  \n",
    "    return False"
   ]
  },
  {
   "cell_type": "code",
   "execution_count": 113,
   "metadata": {},
   "outputs": [],
   "source": [
    "#### FROM THE WIKIPEDIA 2-OPT PAGE\n",
    "\n",
    "def two_opt_optimization(cities, current_path):\n",
    "    # TODO: Add in Kernighan–Lin algorithm\n",
    "    # https://en.wikipedia.org/wiki/Kernighan%E2%80%93Lin_algorithm\n",
    "    best_distance = total_distance(cities, current_path)\n",
    "    \n",
    "    for i in range(1, len(current_path)-2):\n",
    "        for k in range(i+1, len(current_path)-1):\n",
    "            new_path = two_opt_swap(current_path, i, k)\n",
    "            new_distance = total_distance(cities, new_path)\n",
    "            if (new_distance < best_distance):\n",
    "                \n",
    "                return new_path, new_distance\n",
    "    return current_path, best_distance\n",
    "\n",
    "def two_opt_swap(path, i, k):\n",
    "    new_path = path[:]\n",
    "    new_path[i:k] = path[k-1:i-1:-1]\n",
    "    return new_path"
   ]
  },
  {
   "cell_type": "code",
   "execution_count": 114,
   "metadata": {},
   "outputs": [],
   "source": [
    "#### FROM CLEVER ALGORITHMS\n",
    "\n",
    "def stochastic_two_opt(parent):\n",
    "    \n",
    "    perm = parent # SHOULD THIS BE A COPY OF current_path OR AN EMPTY ARRAY LEN OF c_p?\n",
    "    \n",
    "    c1 = np.random.randint(len(perm))\n",
    "    c2 = np.random.randint(len(perm))\n",
    "    \n",
    "    exclude = [c1]\n",
    "    \n",
    "    if c1 == 0:\n",
    "        exclude.append(len(perm)-1)\n",
    "    else:\n",
    "        exclude.append(c1-1)\n",
    "        \n",
    "    if c1 == len(perm)-1:\n",
    "        exclude.append(0)\n",
    "    else:\n",
    "        exclude.append(c1+1)\n",
    "    \n",
    "    while c2 in exclude:\n",
    "        c2 = np.random.randint(len(perm))\n",
    "        if c2 < c1:\n",
    "            c1, c2 = c2, c1 # now c1 < c2\n",
    "            perm = two_opt_swap(perm, c1, c2)\n",
    "    \n",
    "    return perm, [ [ parent[c1-1], parent[c1] ], [ parent[c2-1], parent[c2] ] ] # permuted path, edges that were swapped"
   ]
  },
  {
   "cell_type": "code",
   "execution_count": 115,
   "metadata": {},
   "outputs": [],
   "source": [
    "a = range(10)"
   ]
  },
  {
   "cell_type": "code",
   "execution_count": 116,
   "metadata": {},
   "outputs": [],
   "source": [
    "def generate_candidate(best_path, tabu_list, cities):\n",
    "\n",
    "    perm = best_path\n",
    "    edges = [[0,0]], [[0,0]]\n",
    "    \n",
    "    tabu = True\n",
    "    while tabu:\n",
    "        print(tabu)\n",
    "        perm, edges = stochastic_two_opt(best_path)\n",
    "        tabu = is_tabu(perm, tabu_list)\n",
    "    \n",
    "    perm_distance = total_distance(cities, perm)\n",
    "    return [perm_distance, perm, edges]"
   ]
  },
  {
   "cell_type": "code",
   "execution_count": 117,
   "metadata": {},
   "outputs": [],
   "source": [
    "def get_best_candidate(candidates):\n",
    "    cost, best = None, None\n",
    "    \n",
    "    for perm_distance, perm, edges in candidates:\n",
    "        if cost is None:\n",
    "            cost = perm_distance\n",
    "            best = [perm_distance, perm, edges]\n",
    "            \n",
    "        if perm_distance < cost:\n",
    "            best = [perm_distance, perm, edges]\n",
    "            \n",
    "    return best"
   ]
  },
  {
   "cell_type": "code",
   "execution_count": 118,
   "metadata": {},
   "outputs": [],
   "source": [
    "def tabu_search(cities, tabu_list_size, max_candidates, max_iter, start_city):\n",
    "    best_path = random_permutation(cities, start_city)\n",
    "    best_cost = total_distance(cities, best_path)\n",
    "    \n",
    "    tabu_list = []\n",
    "    \n",
    "    for i in range(max_iter):\n",
    "        candidates = []\n",
    "        for j in range(max_candidates):\n",
    "            candidates.append(generate_candidate(best_path, tabu_list, cities))\n",
    "            best_candidate = get_best_candidate(candidates)\n",
    "            \n",
    "            candidate_cost = best_candidate[0]\n",
    "            candidate_path = best_candidate[1]\n",
    "            candidate_edges = best_candidate[2]\n",
    "            \n",
    "            if candidate_cost < best_cost:\n",
    "                best_cost = candidate_cost\n",
    "                best_path = candidate_path\n",
    "                \n",
    "                for edge in candidate_edges:\n",
    "                    tabu_list.append(edge)\n",
    "                \n",
    "                while len(tabu_list) > tabu_list_size:\n",
    "                    tabu_list.pop(0)\n",
    "        \n",
    "    return best_cost, best_path\n",
    "    \n",
    "    # sort candidates by candidate_distance"
   ]
  },
  {
   "cell_type": "code",
   "execution_count": 119,
   "metadata": {},
   "outputs": [
    {
     "name": "stdout",
     "output_type": "stream",
     "text": [
      "True\n"
     ]
    },
    {
     "ename": "KeyboardInterrupt",
     "evalue": "",
     "output_type": "error",
     "traceback": [
      "\u001b[0;31m---------------------------------------------------------------------------\u001b[0m",
      "\u001b[0;31mKeyboardInterrupt\u001b[0m                         Traceback (most recent call last)",
      "\u001b[0;32m<ipython-input-119-872640efb475>\u001b[0m in \u001b[0;36m<module>\u001b[0;34m()\u001b[0m\n\u001b[1;32m      4\u001b[0m \u001b[0mmax_candidates\u001b[0m \u001b[0;34m=\u001b[0m \u001b[0;36m10\u001b[0m \u001b[0;31m#len(city_subset)\u001b[0m\u001b[0;34m\u001b[0m\u001b[0m\n\u001b[1;32m      5\u001b[0m \u001b[0;34m\u001b[0m\u001b[0m\n\u001b[0;32m----> 6\u001b[0;31m \u001b[0mtabu_search\u001b[0m\u001b[0;34m(\u001b[0m\u001b[0mcities\u001b[0m\u001b[0;34m,\u001b[0m \u001b[0mtabu_list_size\u001b[0m\u001b[0;34m,\u001b[0m \u001b[0mmax_candidates\u001b[0m\u001b[0;34m,\u001b[0m \u001b[0mmax_iter\u001b[0m\u001b[0;34m,\u001b[0m \u001b[0;36m3\u001b[0m\u001b[0;34m)\u001b[0m\u001b[0;34m\u001b[0m\u001b[0m\n\u001b[0m",
      "\u001b[0;32m<ipython-input-118-c2051115d4a2>\u001b[0m in \u001b[0;36mtabu_search\u001b[0;34m(cities, tabu_list_size, max_candidates, max_iter, start_city)\u001b[0m\n\u001b[1;32m     12\u001b[0m         \u001b[0mcandidates\u001b[0m \u001b[0;34m=\u001b[0m \u001b[0;34m[\u001b[0m\u001b[0;34m]\u001b[0m\u001b[0;34m\u001b[0m\u001b[0m\n\u001b[1;32m     13\u001b[0m         \u001b[0;32mfor\u001b[0m \u001b[0mj\u001b[0m \u001b[0;32min\u001b[0m \u001b[0mrange\u001b[0m\u001b[0;34m(\u001b[0m\u001b[0mmax_candidates\u001b[0m\u001b[0;34m)\u001b[0m\u001b[0;34m:\u001b[0m\u001b[0;34m\u001b[0m\u001b[0m\n\u001b[0;32m---> 14\u001b[0;31m             \u001b[0mcandidates\u001b[0m\u001b[0;34m.\u001b[0m\u001b[0mappend\u001b[0m\u001b[0;34m(\u001b[0m\u001b[0mgenerate_candidate\u001b[0m\u001b[0;34m(\u001b[0m\u001b[0mbest_path\u001b[0m\u001b[0;34m,\u001b[0m \u001b[0mtabu_list\u001b[0m\u001b[0;34m,\u001b[0m \u001b[0mcities\u001b[0m\u001b[0;34m)\u001b[0m\u001b[0;34m)\u001b[0m\u001b[0;34m\u001b[0m\u001b[0m\n\u001b[0m\u001b[1;32m     15\u001b[0m             \u001b[0mbest_candidate\u001b[0m \u001b[0;34m=\u001b[0m \u001b[0mget_best_candidate\u001b[0m\u001b[0;34m(\u001b[0m\u001b[0mcandidates\u001b[0m\u001b[0;34m)\u001b[0m\u001b[0;34m\u001b[0m\u001b[0m\n\u001b[1;32m     16\u001b[0m \u001b[0;34m\u001b[0m\u001b[0m\n",
      "\u001b[0;32m<ipython-input-116-11681474d1bd>\u001b[0m in \u001b[0;36mgenerate_candidate\u001b[0;34m(best_path, tabu_list, cities)\u001b[0m\n\u001b[1;32m     10\u001b[0m         \u001b[0mtabu\u001b[0m \u001b[0;34m=\u001b[0m \u001b[0mis_tabu\u001b[0m\u001b[0;34m(\u001b[0m\u001b[0mperm\u001b[0m\u001b[0;34m,\u001b[0m \u001b[0mtabu_list\u001b[0m\u001b[0;34m)\u001b[0m\u001b[0;34m\u001b[0m\u001b[0m\n\u001b[1;32m     11\u001b[0m \u001b[0;34m\u001b[0m\u001b[0m\n\u001b[0;32m---> 12\u001b[0;31m     \u001b[0mperm_distance\u001b[0m \u001b[0;34m=\u001b[0m \u001b[0mtotal_distance\u001b[0m\u001b[0;34m(\u001b[0m\u001b[0mcities\u001b[0m\u001b[0;34m,\u001b[0m \u001b[0mperm\u001b[0m\u001b[0;34m)\u001b[0m\u001b[0;34m\u001b[0m\u001b[0m\n\u001b[0m\u001b[1;32m     13\u001b[0m     \u001b[0;32mreturn\u001b[0m \u001b[0;34m[\u001b[0m\u001b[0mperm_distance\u001b[0m\u001b[0;34m,\u001b[0m \u001b[0mperm\u001b[0m\u001b[0;34m,\u001b[0m \u001b[0medges\u001b[0m\u001b[0;34m]\u001b[0m\u001b[0;34m\u001b[0m\u001b[0m\n",
      "\u001b[0;32m<ipython-input-108-08cbd6f23258>\u001b[0m in \u001b[0;36mtotal_distance\u001b[0;34m(city_df, path)\u001b[0m\n\u001b[1;32m      7\u001b[0m         \u001b[0mnext_city\u001b[0m \u001b[0;34m=\u001b[0m \u001b[0mcity_num\u001b[0m\u001b[0;34m\u001b[0m\u001b[0m\n\u001b[1;32m      8\u001b[0m \u001b[0;34m\u001b[0m\u001b[0m\n\u001b[0;32m----> 9\u001b[0;31m         \u001b[0mx2\u001b[0m \u001b[0;34m=\u001b[0m \u001b[0mnp\u001b[0m\u001b[0;34m.\u001b[0m\u001b[0mpower\u001b[0m\u001b[0;34m(\u001b[0m\u001b[0;34m(\u001b[0m\u001b[0mcity_df\u001b[0m\u001b[0;34m.\u001b[0m\u001b[0mX\u001b[0m\u001b[0;34m[\u001b[0m\u001b[0mcity_num\u001b[0m\u001b[0;34m]\u001b[0m \u001b[0;34m-\u001b[0m \u001b[0mcity_df\u001b[0m\u001b[0;34m.\u001b[0m\u001b[0mX\u001b[0m\u001b[0;34m[\u001b[0m\u001b[0mprev_city\u001b[0m\u001b[0;34m]\u001b[0m\u001b[0;34m)\u001b[0m\u001b[0;34m,\u001b[0m\u001b[0;36m2\u001b[0m\u001b[0;34m)\u001b[0m\u001b[0;34m\u001b[0m\u001b[0m\n\u001b[0m\u001b[1;32m     10\u001b[0m         \u001b[0my2\u001b[0m \u001b[0;34m=\u001b[0m \u001b[0mnp\u001b[0m\u001b[0;34m.\u001b[0m\u001b[0mpower\u001b[0m\u001b[0;34m(\u001b[0m\u001b[0;34m(\u001b[0m\u001b[0mcity_df\u001b[0m\u001b[0;34m.\u001b[0m\u001b[0mY\u001b[0m\u001b[0;34m[\u001b[0m\u001b[0mcity_num\u001b[0m\u001b[0;34m]\u001b[0m \u001b[0;34m-\u001b[0m \u001b[0mcity_df\u001b[0m\u001b[0;34m.\u001b[0m\u001b[0mY\u001b[0m\u001b[0;34m[\u001b[0m\u001b[0mprev_city\u001b[0m\u001b[0;34m]\u001b[0m\u001b[0;34m)\u001b[0m\u001b[0;34m,\u001b[0m\u001b[0;36m2\u001b[0m\u001b[0;34m)\u001b[0m\u001b[0;34m\u001b[0m\u001b[0m\n\u001b[1;32m     11\u001b[0m         \u001b[0mcity1\u001b[0m \u001b[0;34m=\u001b[0m \u001b[0;34m[\u001b[0m\u001b[0mcity_df\u001b[0m\u001b[0;34m.\u001b[0m\u001b[0mX\u001b[0m\u001b[0;34m[\u001b[0m\u001b[0mcity_num\u001b[0m\u001b[0;34m]\u001b[0m\u001b[0;34m,\u001b[0m \u001b[0mcity_df\u001b[0m\u001b[0;34m.\u001b[0m\u001b[0mY\u001b[0m\u001b[0;34m[\u001b[0m\u001b[0mcity_num\u001b[0m\u001b[0;34m]\u001b[0m\u001b[0;34m]\u001b[0m\u001b[0;34m\u001b[0m\u001b[0m\n",
      "\u001b[0;32m~/anaconda3/lib/python3.7/site-packages/pandas/core/generic.py\u001b[0m in \u001b[0;36m__getattr__\u001b[0;34m(self, name)\u001b[0m\n\u001b[1;32m   4372\u001b[0m             \u001b[0;32mreturn\u001b[0m \u001b[0mobject\u001b[0m\u001b[0;34m.\u001b[0m\u001b[0m__getattribute__\u001b[0m\u001b[0;34m(\u001b[0m\u001b[0mself\u001b[0m\u001b[0;34m,\u001b[0m \u001b[0mname\u001b[0m\u001b[0;34m)\u001b[0m\u001b[0;34m\u001b[0m\u001b[0m\n\u001b[1;32m   4373\u001b[0m         \u001b[0;32melse\u001b[0m\u001b[0;34m:\u001b[0m\u001b[0;34m\u001b[0m\u001b[0m\n\u001b[0;32m-> 4374\u001b[0;31m             \u001b[0;32mif\u001b[0m \u001b[0mself\u001b[0m\u001b[0;34m.\u001b[0m\u001b[0m_info_axis\u001b[0m\u001b[0;34m.\u001b[0m\u001b[0m_can_hold_identifiers_and_holds_name\u001b[0m\u001b[0;34m(\u001b[0m\u001b[0mname\u001b[0m\u001b[0;34m)\u001b[0m\u001b[0;34m:\u001b[0m\u001b[0;34m\u001b[0m\u001b[0m\n\u001b[0m\u001b[1;32m   4375\u001b[0m                 \u001b[0;32mreturn\u001b[0m \u001b[0mself\u001b[0m\u001b[0;34m[\u001b[0m\u001b[0mname\u001b[0m\u001b[0;34m]\u001b[0m\u001b[0;34m\u001b[0m\u001b[0m\n\u001b[1;32m   4376\u001b[0m             \u001b[0;32mreturn\u001b[0m \u001b[0mobject\u001b[0m\u001b[0;34m.\u001b[0m\u001b[0m__getattribute__\u001b[0m\u001b[0;34m(\u001b[0m\u001b[0mself\u001b[0m\u001b[0;34m,\u001b[0m \u001b[0mname\u001b[0m\u001b[0;34m)\u001b[0m\u001b[0;34m\u001b[0m\u001b[0m\n",
      "\u001b[0;32m~/anaconda3/lib/python3.7/site-packages/pandas/core/indexes/base.py\u001b[0m in \u001b[0;36m_can_hold_identifiers_and_holds_name\u001b[0;34m(self, name)\u001b[0m\n\u001b[1;32m   2099\u001b[0m             \u001b[0;32mreturn\u001b[0m \u001b[0mresult\u001b[0m\u001b[0;34m\u001b[0m\u001b[0m\n\u001b[1;32m   2100\u001b[0m \u001b[0;34m\u001b[0m\u001b[0m\n\u001b[0;32m-> 2101\u001b[0;31m     \u001b[0;32mdef\u001b[0m \u001b[0m_can_hold_identifiers_and_holds_name\u001b[0m\u001b[0;34m(\u001b[0m\u001b[0mself\u001b[0m\u001b[0;34m,\u001b[0m \u001b[0mname\u001b[0m\u001b[0;34m)\u001b[0m\u001b[0;34m:\u001b[0m\u001b[0;34m\u001b[0m\u001b[0m\n\u001b[0m\u001b[1;32m   2102\u001b[0m         \"\"\"\n\u001b[1;32m   2103\u001b[0m         \u001b[0mFaster\u001b[0m \u001b[0mcheck\u001b[0m \u001b[0;32mfor\u001b[0m\u001b[0;31m \u001b[0m\u001b[0;31m`\u001b[0m\u001b[0;31m`\u001b[0m\u001b[0mname\u001b[0m \u001b[0;32min\u001b[0m \u001b[0mself\u001b[0m\u001b[0;31m`\u001b[0m\u001b[0;31m`\u001b[0m \u001b[0mwhen\u001b[0m \u001b[0mwe\u001b[0m \u001b[0mknow\u001b[0m\u001b[0;31m \u001b[0m\u001b[0;31m`\u001b[0m\u001b[0mname\u001b[0m\u001b[0;31m`\u001b[0m \u001b[0;32mis\u001b[0m \u001b[0ma\u001b[0m \u001b[0mPython\u001b[0m\u001b[0;34m\u001b[0m\u001b[0m\n",
      "\u001b[0;31mKeyboardInterrupt\u001b[0m: "
     ]
    }
   ],
   "source": [
    "# Intialize\n",
    "max_iter = 1\n",
    "tabu_list_size = 15\n",
    "max_candidates = 10 #len(city_subset)\n",
    "\n",
    "tabu_search(cities, tabu_list_size, max_candidates, max_iter, 3)"
   ]
  },
  {
   "cell_type": "code",
   "execution_count": null,
   "metadata": {},
   "outputs": [],
   "source": []
  }
 ],
 "metadata": {
  "kernelspec": {
   "display_name": "Python 3",
   "language": "python",
   "name": "python3"
  },
  "language_info": {
   "codemirror_mode": {
    "name": "ipython",
    "version": 3
   },
   "file_extension": ".py",
   "mimetype": "text/x-python",
   "name": "python",
   "nbconvert_exporter": "python",
   "pygments_lexer": "ipython3",
   "version": "3.7.0"
  }
 },
 "nbformat": 4,
 "nbformat_minor": 2
}
